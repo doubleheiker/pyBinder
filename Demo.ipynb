{
 "cells": [
  {
   "cell_type": "code",
   "execution_count": 35,
   "metadata": {},
   "outputs": [],
   "source": [
    "import math\n",
    "\n",
    "#y^2 = x^3 + x + 28 (mod71)\n",
    "point = []\n",
    "for x in range(0, 71):\n",
    "    z=(pow(x, 3)+x+28)%71\n",
    "    if (pow(z, 35))%71 == 1:\n",
    "        y1=pow(z, 18)%71\n",
    "        y2=(-pow(z, 18))%71\n",
    "        if y1 == y2:\n",
    "            point.append([x, y1])\n",
    "        else:\n",
    "            point.append([x,y1])\n",
    "            point.append([x,y2])"
   ]
  },
  {
   "cell_type": "code",
   "execution_count": 36,
   "metadata": {
    "collapsed": true
   },
   "outputs": [
    {
     "data": {
      "text/plain": [
       "[[1, 32],\n",
       " [1, 39],\n",
       " [2, 40],\n",
       " [2, 31],\n",
       " [3, 49],\n",
       " [3, 22],\n",
       " [4, 5],\n",
       " [4, 66],\n",
       " [5, 4],\n",
       " [5, 67],\n",
       " [6, 45],\n",
       " [6, 26],\n",
       " [12, 8],\n",
       " [12, 63],\n",
       " [13, 45],\n",
       " [13, 26],\n",
       " [15, 9],\n",
       " [15, 62],\n",
       " [19, 27],\n",
       " [19, 44],\n",
       " [20, 5],\n",
       " [20, 66],\n",
       " [21, 3],\n",
       " [21, 68],\n",
       " [22, 30],\n",
       " [22, 41],\n",
       " [23, 19],\n",
       " [23, 52],\n",
       " [25, 49],\n",
       " [25, 22],\n",
       " [31, 32],\n",
       " [31, 39],\n",
       " [33, 1],\n",
       " [33, 70],\n",
       " [34, 48],\n",
       " [34, 23],\n",
       " [35, 57],\n",
       " [35, 14],\n",
       " [36, 12],\n",
       " [36, 59],\n",
       " [37, 38],\n",
       " [37, 33],\n",
       " [39, 32],\n",
       " [39, 39],\n",
       " [41, 64],\n",
       " [41, 7],\n",
       " [43, 49],\n",
       " [43, 22],\n",
       " [47, 5],\n",
       " [47, 66],\n",
       " [48, 60],\n",
       " [48, 11],\n",
       " [49, 24],\n",
       " [49, 47],\n",
       " [52, 45],\n",
       " [52, 26],\n",
       " [58, 27],\n",
       " [58, 44],\n",
       " [61, 15],\n",
       " [61, 56],\n",
       " [63, 54],\n",
       " [63, 17],\n",
       " [65, 27],\n",
       " [65, 44],\n",
       " [66, 18],\n",
       " [66, 53],\n",
       " [69, 36],\n",
       " [69, 35]]"
      ]
     },
     "execution_count": 36,
     "metadata": {},
     "output_type": "execute_result"
    }
   ],
   "source": [
    "point"
   ]
  },
  {
   "cell_type": "code",
   "execution_count": 18,
   "metadata": {
    "scrolled": true
   },
   "outputs": [
    {
     "data": {
      "text/plain": [
       "68"
      ]
     },
     "execution_count": 18,
     "metadata": {},
     "output_type": "execute_result"
    }
   ],
   "source": [
    "len(point) #则有69个点"
   ]
  },
  {
   "cell_type": "code",
   "execution_count": 32,
   "metadata": {
    "collapsed": true
   },
   "outputs": [
    {
     "name": "stdout",
     "output_type": "stream",
     "text": [
      "[69, 39]\n",
      "[69, 32]\n",
      "[67, 31]\n",
      "[67, 40]\n",
      "[65, 22]\n",
      "[65, 49]\n",
      "[63, 66]\n",
      "[63, 5]\n",
      "[61, 67]\n",
      "[61, 4]\n",
      "[59, 26]\n",
      "[59, 45]\n",
      "[47, 63]\n",
      "[47, 8]\n",
      "[45, 26]\n",
      "[45, 45]\n",
      "[41, 62]\n",
      "[41, 9]\n",
      "[33, 44]\n",
      "[33, 27]\n",
      "[31, 66]\n",
      "[31, 5]\n",
      "[29, 68]\n",
      "[29, 3]\n",
      "[27, 41]\n",
      "[27, 30]\n",
      "[25, 52]\n",
      "[25, 19]\n",
      "[21, 22]\n",
      "[21, 49]\n",
      "[9, 39]\n",
      "[9, 32]\n",
      "[5, 70]\n",
      "[5, 1]\n",
      "[3, 23]\n",
      "[3, 48]\n",
      "[1, 14]\n",
      "[1, 57]\n",
      "[70, 59]\n",
      "[70, 12]\n",
      "[68, 33]\n",
      "[68, 38]\n",
      "[64, 39]\n",
      "[64, 32]\n",
      "[60, 7]\n",
      "[60, 64]\n",
      "[56, 22]\n",
      "[56, 49]\n",
      "[48, 66]\n",
      "[48, 5]\n",
      "[46, 11]\n",
      "[46, 60]\n",
      "[44, 47]\n",
      "[44, 24]\n",
      "[38, 26]\n",
      "[38, 45]\n",
      "[26, 44]\n",
      "[26, 27]\n",
      "[20, 56]\n",
      "[20, 15]\n",
      "[16, 17]\n",
      "[16, 54]\n",
      "[12, 44]\n",
      "[12, 27]\n",
      "[10, 53]\n",
      "[10, 18]\n",
      "[4, 35]\n",
      "[4, 36]\n",
      "68\n"
     ]
    }
   ],
   "source": [
    "from numpy import *\n",
    "\n",
    "def plus(s, a):\n",
    "    x1 = int(s[0])\n",
    "    y1 = int(s[1])\n",
    "    x2 = int(a[0])\n",
    "    y2 = int(a[1])\n",
    "    r = 0\n",
    "    if s != a:\n",
    "        x21_ = 0\n",
    "        for i in range(0, 71):\n",
    "            if (i*(x2-x1))%71 == 1:\n",
    "                x21_=i\n",
    "                break\n",
    "        r = ((y2-y1)*(x21_))%71\n",
    "    else:\n",
    "        y1_ = 0\n",
    "        for i in range(0, 71):\n",
    "            if (i*2*y1_)%71 == 1:\n",
    "                y1_=i\n",
    "                break\n",
    "        r = ((3*pow(x1, 2)+1)*(y1_))%71\n",
    "    x3 = ((pow(r, 2)-x1-x2)%71+71)%71\n",
    "    y3 = ((r*(x1-x3)-y1)%71+71)%71\n",
    "    return [x3, y3]\n",
    "\n",
    "count = 0 #记录不是生成元的点的个数\n",
    "for p in point:\n",
    "    #print(p[0:2])\n",
    "    a = p\n",
    "    s = a #计算a累加\n",
    "    \n",
    "    for i in range(1, 70):\n",
    "        s = plus(s, a)\n",
    "        if s not in point:\n",
    "            count = count+1\n",
    "            #print(s)\n",
    "            #print(a)\n",
    "            #print(\" is not infinitesimal generator\")\n",
    "            break\n",
    "print(count)"
   ]
  },
  {
   "cell_type": "code",
   "execution_count": null,
   "metadata": {},
   "outputs": [],
   "source": []
  },
  {
   "cell_type": "code",
   "execution_count": null,
   "metadata": {},
   "outputs": [],
   "source": []
  }
 ],
 "metadata": {
  "kernelspec": {
   "display_name": "Python 3",
   "language": "python",
   "name": "python3"
  },
  "language_info": {
   "codemirror_mode": {
    "name": "ipython",
    "version": 3
   },
   "file_extension": ".py",
   "mimetype": "text/x-python",
   "name": "python",
   "nbconvert_exporter": "python",
   "pygments_lexer": "ipython3",
   "version": "3.6.4"
  }
 },
 "nbformat": 4,
 "nbformat_minor": 2
}
